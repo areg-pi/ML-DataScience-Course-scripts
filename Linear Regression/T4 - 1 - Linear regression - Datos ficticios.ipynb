{
 "cells": [
  {
   "cell_type": "markdown",
   "metadata": {},
   "source": [
    "# Modelos de regresión lineal"
   ]
  },
  {
   "cell_type": "markdown",
   "metadata": {},
   "source": [
    "## Modelo con datos simulados\n",
    "* y = a + b * x\n",
    "* x = 100 valores normalmente distribuidos entre N(1.5, 2.5)\n",
    "* y = 5 + 1.9 * x + e\n",
    "* e estará distribuido según una N(0, 0.8)"
   ]
  },
  {
   "cell_type": "code",
   "execution_count": 40,
   "metadata": {},
   "outputs": [],
   "source": [
    "import pandas as pd\n",
    "import numpy as np\n",
    "import matplotlib.pyplot as plt\n",
    "%matplotlib inline"
   ]
  },
  {
   "cell_type": "code",
   "execution_count": 46,
   "metadata": {},
   "outputs": [],
   "source": [
    "x = 1.5 + 2.5 * np.random.randn(100)\n",
    "e = 0 + 0.8 * np.random.randn(100)"
   ]
  },
  {
   "cell_type": "code",
   "execution_count": 47,
   "metadata": {},
   "outputs": [],
   "source": [
    "y_pred = 5 + 1.9 * x            # Predicción, lo que regresa el modelo lineal\n",
    "y_actual = 5 + 1.9 * x + e        # Predicción, lo que realmente observamos"
   ]
  },
  {
   "cell_type": "code",
   "execution_count": 48,
   "metadata": {},
   "outputs": [],
   "source": [
    "x_list = x.tolist()\n",
    "y_pred_list = y_pred.tolist()\n",
    "y_actual_list = y_actual.tolist()"
   ]
  },
  {
   "cell_type": "code",
   "execution_count": 49,
   "metadata": {},
   "outputs": [],
   "source": [
    "data = pd.DataFrame({\n",
    "    'x': x_list,\n",
    "    'y_actual': y_actual_list,\n",
    "    'y_pred': y_pred_list\n",
    "})"
   ]
  },
  {
   "cell_type": "code",
   "execution_count": 50,
   "metadata": {},
   "outputs": [
    {
     "data": {
      "text/html": [
       "<div>\n",
       "<style scoped>\n",
       "    .dataframe tbody tr th:only-of-type {\n",
       "        vertical-align: middle;\n",
       "    }\n",
       "\n",
       "    .dataframe tbody tr th {\n",
       "        vertical-align: top;\n",
       "    }\n",
       "\n",
       "    .dataframe thead th {\n",
       "        text-align: right;\n",
       "    }\n",
       "</style>\n",
       "<table border=\"1\" class=\"dataframe\">\n",
       "  <thead>\n",
       "    <tr style=\"text-align: right;\">\n",
       "      <th></th>\n",
       "      <th>x</th>\n",
       "      <th>y_actual</th>\n",
       "      <th>y_pred</th>\n",
       "    </tr>\n",
       "  </thead>\n",
       "  <tbody>\n",
       "    <tr>\n",
       "      <th>0</th>\n",
       "      <td>-0.609765</td>\n",
       "      <td>3.454044</td>\n",
       "      <td>3.841447</td>\n",
       "    </tr>\n",
       "    <tr>\n",
       "      <th>1</th>\n",
       "      <td>-0.760583</td>\n",
       "      <td>2.319686</td>\n",
       "      <td>3.554892</td>\n",
       "    </tr>\n",
       "    <tr>\n",
       "      <th>2</th>\n",
       "      <td>1.357624</td>\n",
       "      <td>7.627736</td>\n",
       "      <td>7.579486</td>\n",
       "    </tr>\n",
       "    <tr>\n",
       "      <th>3</th>\n",
       "      <td>-0.086506</td>\n",
       "      <td>4.375426</td>\n",
       "      <td>4.835639</td>\n",
       "    </tr>\n",
       "    <tr>\n",
       "      <th>4</th>\n",
       "      <td>0.935723</td>\n",
       "      <td>6.253043</td>\n",
       "      <td>6.777874</td>\n",
       "    </tr>\n",
       "    <tr>\n",
       "      <th>...</th>\n",
       "      <td>...</td>\n",
       "      <td>...</td>\n",
       "      <td>...</td>\n",
       "    </tr>\n",
       "    <tr>\n",
       "      <th>95</th>\n",
       "      <td>3.711596</td>\n",
       "      <td>12.732072</td>\n",
       "      <td>12.052032</td>\n",
       "    </tr>\n",
       "    <tr>\n",
       "      <th>96</th>\n",
       "      <td>-5.163192</td>\n",
       "      <td>-4.983237</td>\n",
       "      <td>-4.810066</td>\n",
       "    </tr>\n",
       "    <tr>\n",
       "      <th>97</th>\n",
       "      <td>2.992808</td>\n",
       "      <td>10.708705</td>\n",
       "      <td>10.686335</td>\n",
       "    </tr>\n",
       "    <tr>\n",
       "      <th>98</th>\n",
       "      <td>5.340792</td>\n",
       "      <td>13.996415</td>\n",
       "      <td>15.147505</td>\n",
       "    </tr>\n",
       "    <tr>\n",
       "      <th>99</th>\n",
       "      <td>1.300612</td>\n",
       "      <td>7.673639</td>\n",
       "      <td>7.471163</td>\n",
       "    </tr>\n",
       "  </tbody>\n",
       "</table>\n",
       "<p>100 rows × 3 columns</p>\n",
       "</div>"
      ],
      "text/plain": [
       "           x   y_actual     y_pred\n",
       "0  -0.609765   3.454044   3.841447\n",
       "1  -0.760583   2.319686   3.554892\n",
       "2   1.357624   7.627736   7.579486\n",
       "3  -0.086506   4.375426   4.835639\n",
       "4   0.935723   6.253043   6.777874\n",
       "..       ...        ...        ...\n",
       "95  3.711596  12.732072  12.052032\n",
       "96 -5.163192  -4.983237  -4.810066\n",
       "97  2.992808  10.708705  10.686335\n",
       "98  5.340792  13.996415  15.147505\n",
       "99  1.300612   7.673639   7.471163\n",
       "\n",
       "[100 rows x 3 columns]"
      ]
     },
     "execution_count": 50,
     "metadata": {},
     "output_type": "execute_result"
    }
   ],
   "source": [
    "data"
   ]
  },
  {
   "cell_type": "code",
   "execution_count": 52,
   "metadata": {},
   "outputs": [],
   "source": [
    "y_mean = [np.mean(y_actual) for i in range(1, len(x_list) + 1)]"
   ]
  },
  {
   "cell_type": "code",
   "execution_count": 53,
   "metadata": {},
   "outputs": [
    {
     "data": {
      "image/png": "[encoded data removed]",
      "text/plain": [
       "<Figure size 432x288 with 1 Axes>"
      ]
     },
     "metadata": {
      "needs_background": "light"
     },
     "output_type": "display_data"
    }
   ],
   "source": [
    "plt.plot(x, y_actual, 'ko')\n",
    "plt.plot(x, y_pred, 'g')\n",
    "plt.plot(x, y_mean, 'r')\n",
    "plt.title('Valor actual vs predicción')\n",
    "plt.grid()"
   ]
  },
  {
   "cell_type": "code",
   "execution_count": 54,
   "metadata": {},
   "outputs": [],
   "source": [
    "data['SSR'] = (data['y_pred'] - np.mean(y_actual))**2\n",
    "data['SSD'] = (data['y_pred'] - data['y_actual'])**2\n",
    "data['SST'] = (data['y_actual'] - np.mean(y_actual))**2"
   ]
  },
  {
   "cell_type": "code",
   "execution_count": 55,
   "metadata": {},
   "outputs": [
    {
     "data": {
      "text/html": [
       "<div>\n",
       "<style scoped>\n",
       "    .dataframe tbody tr th:only-of-type {\n",
       "        vertical-align: middle;\n",
       "    }\n",
       "\n",
       "    .dataframe tbody tr th {\n",
       "        vertical-align: top;\n",
       "    }\n",
       "\n",
       "    .dataframe thead th {\n",
       "        text-align: right;\n",
       "    }\n",
       "</style>\n",
       "<table border=\"1\" class=\"dataframe\">\n",
       "  <thead>\n",
       "    <tr style=\"text-align: right;\">\n",
       "      <th></th>\n",
       "      <th>x</th>\n",
       "      <th>y_actual</th>\n",
       "      <th>y_pred</th>\n",
       "      <th>SSR</th>\n",
       "      <th>SSD</th>\n",
       "      <th>SST</th>\n",
       "    </tr>\n",
       "  </thead>\n",
       "  <tbody>\n",
       "    <tr>\n",
       "      <th>0</th>\n",
       "      <td>-0.609765</td>\n",
       "      <td>3.454044</td>\n",
       "      <td>3.841447</td>\n",
       "      <td>11.209673</td>\n",
       "      <td>0.150081</td>\n",
       "      <td>13.953872</td>\n",
       "    </tr>\n",
       "    <tr>\n",
       "      <th>1</th>\n",
       "      <td>-0.760583</td>\n",
       "      <td>2.319686</td>\n",
       "      <td>3.554892</td>\n",
       "      <td>13.210611</td>\n",
       "      <td>1.525734</td>\n",
       "      <td>23.715403</td>\n",
       "    </tr>\n",
       "    <tr>\n",
       "      <th>2</th>\n",
       "      <td>1.357624</td>\n",
       "      <td>7.627736</td>\n",
       "      <td>7.579486</td>\n",
       "      <td>0.152064</td>\n",
       "      <td>0.002328</td>\n",
       "      <td>0.192023</td>\n",
       "    </tr>\n",
       "    <tr>\n",
       "      <th>3</th>\n",
       "      <td>-0.086506</td>\n",
       "      <td>4.375426</td>\n",
       "      <td>4.835639</td>\n",
       "      <td>5.540815</td>\n",
       "      <td>0.211795</td>\n",
       "      <td>7.919192</td>\n",
       "    </tr>\n",
       "    <tr>\n",
       "      <th>4</th>\n",
       "      <td>0.935723</td>\n",
       "      <td>6.253043</td>\n",
       "      <td>6.777874</td>\n",
       "      <td>0.169462</td>\n",
       "      <td>0.275448</td>\n",
       "      <td>0.877012</td>\n",
       "    </tr>\n",
       "    <tr>\n",
       "      <th>...</th>\n",
       "      <td>...</td>\n",
       "      <td>...</td>\n",
       "      <td>...</td>\n",
       "      <td>...</td>\n",
       "      <td>...</td>\n",
       "      <td>...</td>\n",
       "    </tr>\n",
       "    <tr>\n",
       "      <th>95</th>\n",
       "      <td>3.711596</td>\n",
       "      <td>12.732072</td>\n",
       "      <td>12.052032</td>\n",
       "      <td>23.643901</td>\n",
       "      <td>0.462456</td>\n",
       "      <td>30.719754</td>\n",
       "    </tr>\n",
       "    <tr>\n",
       "      <th>96</th>\n",
       "      <td>-5.163192</td>\n",
       "      <td>-4.983237</td>\n",
       "      <td>-4.810066</td>\n",
       "      <td>143.990343</td>\n",
       "      <td>0.029989</td>\n",
       "      <td>148.176318</td>\n",
       "    </tr>\n",
       "    <tr>\n",
       "      <th>97</th>\n",
       "      <td>2.992808</td>\n",
       "      <td>10.708705</td>\n",
       "      <td>10.686335</td>\n",
       "      <td>12.227630</td>\n",
       "      <td>0.000500</td>\n",
       "      <td>12.384578</td>\n",
       "    </tr>\n",
       "    <tr>\n",
       "      <th>98</th>\n",
       "      <td>5.340792</td>\n",
       "      <td>13.996415</td>\n",
       "      <td>15.147505</td>\n",
       "      <td>63.329340</td>\n",
       "      <td>1.325009</td>\n",
       "      <td>46.333653</td>\n",
       "    </tr>\n",
       "    <tr>\n",
       "      <th>99</th>\n",
       "      <td>1.300612</td>\n",
       "      <td>7.673639</td>\n",
       "      <td>7.471163</td>\n",
       "      <td>0.079316</td>\n",
       "      <td>0.040996</td>\n",
       "      <td>0.234360</td>\n",
       "    </tr>\n",
       "  </tbody>\n",
       "</table>\n",
       "<p>100 rows × 6 columns</p>\n",
       "</div>"
      ],
      "text/plain": [
       "           x   y_actual     y_pred         SSR       SSD         SST\n",
       "0  -0.609765   3.454044   3.841447   11.209673  0.150081   13.953872\n",
       "1  -0.760583   2.319686   3.554892   13.210611  1.525734   23.715403\n",
       "2   1.357624   7.627736   7.579486    0.152064  0.002328    0.192023\n",
       "3  -0.086506   4.375426   4.835639    5.540815  0.211795    7.919192\n",
       "4   0.935723   6.253043   6.777874    0.169462  0.275448    0.877012\n",
       "..       ...        ...        ...         ...       ...         ...\n",
       "95  3.711596  12.732072  12.052032   23.643901  0.462456   30.719754\n",
       "96 -5.163192  -4.983237  -4.810066  143.990343  0.029989  148.176318\n",
       "97  2.992808  10.708705  10.686335   12.227630  0.000500   12.384578\n",
       "98  5.340792  13.996415  15.147505   63.329340  1.325009   46.333653\n",
       "99  1.300612   7.673639   7.471163    0.079316  0.040996    0.234360\n",
       "\n",
       "[100 rows x 6 columns]"
      ]
     },
     "execution_count": 55,
     "metadata": {},
     "output_type": "execute_result"
    }
   ],
   "source": [
    "data"
   ]
  },
  {
   "cell_type": "code",
   "execution_count": 60,
   "metadata": {},
   "outputs": [],
   "source": [
    "SSR = sum(data['SSR'])\n",
    "SSD = sum(data['SSD'])\n",
    "SST = sum(data['SST'])"
   ]
  },
  {
   "cell_type": "code",
   "execution_count": 61,
   "metadata": {},
   "outputs": [
    {
     "name": "stdout",
     "output_type": "stream",
     "text": [
      "SSR: 2173.5981381230717\n",
      "SSD: 60.31885999444575\n",
      "SST: 2388.976392206223\n"
     ]
    }
   ],
   "source": [
    "print('SSR: ' + str(SSR))\n",
    "print('SSD: ' + str(SSD))\n",
    "print('SST: ' + str(SST))"
   ]
  },
  {
   "cell_type": "code",
   "execution_count": 62,
   "metadata": {},
   "outputs": [
    {
     "name": "stdout",
     "output_type": "stream",
     "text": [
      "SST = SSR + SSD = 2233.9169981175173\n"
     ]
    }
   ],
   "source": [
    "print('SST = SSR + SSD = ' + str(SSR + SSD))"
   ]
  },
  {
   "cell_type": "code",
   "execution_count": 63,
   "metadata": {},
   "outputs": [
    {
     "name": "stdout",
     "output_type": "stream",
     "text": [
      "R2 = SSR / SST = 0.9098449633969596\n"
     ]
    }
   ],
   "source": [
    "R2 = SSR / SST\n",
    "print('R2 = SSR / SST = ' + str(R2))"
   ]
  },
  {
   "cell_type": "code",
   "execution_count": 66,
   "metadata": {},
   "outputs": [
    {
     "data": {
      "text/plain": [
       "(array([ 1.,  2.,  1., 10., 18., 20., 26., 11.,  7.,  4.]),\n",
       " array([-2.45866456, -2.02812732, -1.59759007, -1.16705283, -0.73651559,\n",
       "        -0.30597835,  0.1245589 ,  0.55509614,  0.98563338,  1.41617062,\n",
       "         1.84670787]),\n",
       " <a list of 10 Patch objects>)"
      ]
     },
     "execution_count": 66,
     "metadata": {},
     "output_type": "execute_result"
    },
    {
     "data": {
      "image/png": "[encoded data removed]",
      "text/plain": [
       "<Figure size 432x288 with 1 Axes>"
      ]
     },
     "metadata": {
      "needs_background": "light"
     },
     "output_type": "display_data"
    }
   ],
   "source": [
    "plt.hist(data['y_pred'] - data['y_actual'])"
   ]
  },
  {
   "cell_type": "markdown",
   "metadata": {},
   "source": [
    "# Obteniendo la recta de regresión"
   ]
  },
  {
   "cell_type": "markdown",
   "metadata": {},
   "source": [
    "* y = a + b * x\n",
    "* b = sum((xi - xm) * (yi - ym)) / sum((xi - xm) ^2)\n",
    "* a = ym - b * xm"
   ]
  },
  {
   "cell_type": "code",
   "execution_count": 68,
   "metadata": {},
   "outputs": [
    {
     "data": {
      "text/plain": [
       "(1.1816797796146015, 7.189532049411784)"
      ]
     },
     "execution_count": 68,
     "metadata": {},
     "output_type": "execute_result"
    }
   ],
   "source": [
    "x_mean = np.mean(data['x'])\n",
    "y_mean = np.mean(data['y_actual'])\n",
    "x_mean, y_mean"
   ]
  },
  {
   "cell_type": "code",
   "execution_count": 81,
   "metadata": {},
   "outputs": [
    {
     "data": {
      "text/plain": [
       "(4.86392565316159, 1.9680512744397456)"
      ]
     },
     "execution_count": 81,
     "metadata": {},
     "output_type": "execute_result"
    }
   ],
   "source": [
    "data['Beta_num'] = (data['x'] - x_mean) * (data['y_actual'] - y_mean)    # Numerador de beta\n",
    "data['Beta_den'] = (data['x'] - x_mean)**2                               # Denominador de beta\n",
    "       \n",
    "beta = sum(data['Beta_num']) / sum(data['Beta_den'])                     # Beta\n",
    "\n",
    "alpha = y_mean - beta * x_mean                                   # Alpha\n",
    "\n",
    "alpha, beta"
   ]
  },
  {
   "cell_type": "markdown",
   "metadata": {},
   "source": [
    "Modelo lineal obtenido por regresión\n",
    "* y = 4.86392565316159 + 1.9680512744397456 * x"
   ]
  },
  {
   "cell_type": "code",
   "execution_count": 87,
   "metadata": {},
   "outputs": [],
   "source": [
    "data['Y model'] = alpha + beta * data['x']"
   ]
  },
  {
   "cell_type": "code",
   "execution_count": 88,
   "metadata": {},
   "outputs": [
    {
     "data": {
      "text/html": [
       "<div>\n",
       "<style scoped>\n",
       "    .dataframe tbody tr th:only-of-type {\n",
       "        vertical-align: middle;\n",
       "    }\n",
       "\n",
       "    .dataframe tbody tr th {\n",
       "        vertical-align: top;\n",
       "    }\n",
       "\n",
       "    .dataframe thead th {\n",
       "        text-align: right;\n",
       "    }\n",
       "</style>\n",
       "<table border=\"1\" class=\"dataframe\">\n",
       "  <thead>\n",
       "    <tr style=\"text-align: right;\">\n",
       "      <th></th>\n",
       "      <th>x</th>\n",
       "      <th>y_actual</th>\n",
       "      <th>y_pred</th>\n",
       "      <th>SSR</th>\n",
       "      <th>SSD</th>\n",
       "      <th>SST</th>\n",
       "      <th>Beta_num</th>\n",
       "      <th>Beta_den</th>\n",
       "      <th>Y model</th>\n",
       "    </tr>\n",
       "  </thead>\n",
       "  <tbody>\n",
       "    <tr>\n",
       "      <th>0</th>\n",
       "      <td>-0.609765</td>\n",
       "      <td>3.454044</td>\n",
       "      <td>3.841447</td>\n",
       "      <td>11.209673</td>\n",
       "      <td>0.150081</td>\n",
       "      <td>13.953872</td>\n",
       "      <td>6.691920</td>\n",
       "      <td>3.209273</td>\n",
       "      <td>3.663878</td>\n",
       "    </tr>\n",
       "    <tr>\n",
       "      <th>1</th>\n",
       "      <td>-0.760583</td>\n",
       "      <td>2.319686</td>\n",
       "      <td>3.554892</td>\n",
       "      <td>13.210611</td>\n",
       "      <td>1.525734</td>\n",
       "      <td>23.715403</td>\n",
       "      <td>9.458523</td>\n",
       "      <td>3.772386</td>\n",
       "      <td>3.367059</td>\n",
       "    </tr>\n",
       "    <tr>\n",
       "      <th>2</th>\n",
       "      <td>1.357624</td>\n",
       "      <td>7.627736</td>\n",
       "      <td>7.579486</td>\n",
       "      <td>0.152064</td>\n",
       "      <td>0.002328</td>\n",
       "      <td>0.192023</td>\n",
       "      <td>0.077099</td>\n",
       "      <td>0.030956</td>\n",
       "      <td>7.535799</td>\n",
       "    </tr>\n",
       "    <tr>\n",
       "      <th>3</th>\n",
       "      <td>-0.086506</td>\n",
       "      <td>4.375426</td>\n",
       "      <td>4.835639</td>\n",
       "      <td>5.540815</td>\n",
       "      <td>0.211795</td>\n",
       "      <td>7.919192</td>\n",
       "      <td>3.568809</td>\n",
       "      <td>1.608295</td>\n",
       "      <td>4.693677</td>\n",
       "    </tr>\n",
       "    <tr>\n",
       "      <th>4</th>\n",
       "      <td>0.935723</td>\n",
       "      <td>6.253043</td>\n",
       "      <td>6.777874</td>\n",
       "      <td>0.169462</td>\n",
       "      <td>0.275448</td>\n",
       "      <td>0.877012</td>\n",
       "      <td>0.230336</td>\n",
       "      <td>0.060495</td>\n",
       "      <td>6.705477</td>\n",
       "    </tr>\n",
       "    <tr>\n",
       "      <th>...</th>\n",
       "      <td>...</td>\n",
       "      <td>...</td>\n",
       "      <td>...</td>\n",
       "      <td>...</td>\n",
       "      <td>...</td>\n",
       "      <td>...</td>\n",
       "      <td>...</td>\n",
       "      <td>...</td>\n",
       "      <td>...</td>\n",
       "    </tr>\n",
       "    <tr>\n",
       "      <th>95</th>\n",
       "      <td>3.711596</td>\n",
       "      <td>12.732072</td>\n",
       "      <td>12.052032</td>\n",
       "      <td>23.643901</td>\n",
       "      <td>0.462456</td>\n",
       "      <td>30.719754</td>\n",
       "      <td>14.022160</td>\n",
       "      <td>6.400474</td>\n",
       "      <td>12.168536</td>\n",
       "    </tr>\n",
       "    <tr>\n",
       "      <th>96</th>\n",
       "      <td>-5.163192</td>\n",
       "      <td>-4.983237</td>\n",
       "      <td>-4.810066</td>\n",
       "      <td>143.990343</td>\n",
       "      <td>0.029989</td>\n",
       "      <td>148.176318</td>\n",
       "      <td>77.234667</td>\n",
       "      <td>40.257403</td>\n",
       "      <td>-5.297502</td>\n",
       "    </tr>\n",
       "    <tr>\n",
       "      <th>97</th>\n",
       "      <td>2.992808</td>\n",
       "      <td>10.708705</td>\n",
       "      <td>10.686335</td>\n",
       "      <td>12.227630</td>\n",
       "      <td>0.000500</td>\n",
       "      <td>12.384578</td>\n",
       "      <td>6.373673</td>\n",
       "      <td>3.280185</td>\n",
       "      <td>10.753925</td>\n",
       "    </tr>\n",
       "    <tr>\n",
       "      <th>98</th>\n",
       "      <td>5.340792</td>\n",
       "      <td>13.996415</td>\n",
       "      <td>15.147505</td>\n",
       "      <td>63.329340</td>\n",
       "      <td>1.325009</td>\n",
       "      <td>46.333653</td>\n",
       "      <td>28.310591</td>\n",
       "      <td>17.298217</td>\n",
       "      <td>15.374879</td>\n",
       "    </tr>\n",
       "    <tr>\n",
       "      <th>99</th>\n",
       "      <td>1.300612</td>\n",
       "      <td>7.673639</td>\n",
       "      <td>7.471163</td>\n",
       "      <td>0.079316</td>\n",
       "      <td>0.040996</td>\n",
       "      <td>0.234360</td>\n",
       "      <td>0.057576</td>\n",
       "      <td>0.014145</td>\n",
       "      <td>7.423597</td>\n",
       "    </tr>\n",
       "  </tbody>\n",
       "</table>\n",
       "<p>100 rows × 9 columns</p>\n",
       "</div>"
      ],
      "text/plain": [
       "           x   y_actual     y_pred         SSR       SSD         SST  \\\n",
       "0  -0.609765   3.454044   3.841447   11.209673  0.150081   13.953872   \n",
       "1  -0.760583   2.319686   3.554892   13.210611  1.525734   23.715403   \n",
       "2   1.357624   7.627736   7.579486    0.152064  0.002328    0.192023   \n",
       "3  -0.086506   4.375426   4.835639    5.540815  0.211795    7.919192   \n",
       "4   0.935723   6.253043   6.777874    0.169462  0.275448    0.877012   \n",
       "..       ...        ...        ...         ...       ...         ...   \n",
       "95  3.711596  12.732072  12.052032   23.643901  0.462456   30.719754   \n",
       "96 -5.163192  -4.983237  -4.810066  143.990343  0.029989  148.176318   \n",
       "97  2.992808  10.708705  10.686335   12.227630  0.000500   12.384578   \n",
       "98  5.340792  13.996415  15.147505   63.329340  1.325009   46.333653   \n",
       "99  1.300612   7.673639   7.471163    0.079316  0.040996    0.234360   \n",
       "\n",
       "     Beta_num   Beta_den    Y model  \n",
       "0    6.691920   3.209273   3.663878  \n",
       "1    9.458523   3.772386   3.367059  \n",
       "2    0.077099   0.030956   7.535799  \n",
       "3    3.568809   1.608295   4.693677  \n",
       "4    0.230336   0.060495   6.705477  \n",
       "..        ...        ...        ...  \n",
       "95  14.022160   6.400474  12.168536  \n",
       "96  77.234667  40.257403  -5.297502  \n",
       "97   6.373673   3.280185  10.753925  \n",
       "98  28.310591  17.298217  15.374879  \n",
       "99   0.057576   0.014145   7.423597  \n",
       "\n",
       "[100 rows x 9 columns]"
      ]
     },
     "execution_count": 88,
     "metadata": {},
     "output_type": "execute_result"
    }
   ],
   "source": [
    "data"
   ]
  },
  {
   "cell_type": "code",
   "execution_count": 92,
   "metadata": {},
   "outputs": [
    {
     "data": {
      "text/plain": [
       "(2331.7552657515967, 57.22112645462433, 2388.976392206223)"
      ]
     },
     "execution_count": 92,
     "metadata": {},
     "output_type": "execute_result"
    }
   ],
   "source": [
    "SSR = sum((data['Y model'] - y_mean)**2)\n",
    "SSD = sum((data['Y model'] - data['y_actual'])**2)\n",
    "SST = sum((data['y_actual'] - y_mean)**2)\n",
    "\n",
    "SSR, SSD, SST"
   ]
  },
  {
   "cell_type": "code",
   "execution_count": 93,
   "metadata": {},
   "outputs": [
    {
     "data": {
      "text/plain": [
       "0.9760478476717878"
      ]
     },
     "execution_count": 93,
     "metadata": {},
     "output_type": "execute_result"
    }
   ],
   "source": [
    "R2 = SSR / SST\n",
    "R2"
   ]
  },
  {
   "cell_type": "code",
   "execution_count": 98,
   "metadata": {},
   "outputs": [
    {
     "data": {
      "image/png": "[encoded data removed]",
      "text/plain": [
       "<Figure size 432x288 with 1 Axes>"
      ]
     },
     "metadata": {
      "needs_background": "light"
     },
     "output_type": "display_data"
    }
   ],
   "source": [
    "# Array de y promedio para que no dé error por tener diferentes dimensiones\n",
    "y_mean = [np.mean(y_actual) for i in range(1, len(x_list) + 1)]\n",
    "\n",
    "plt.plot(x, y_actual, 'ko')\n",
    "plt.plot(x, y_pred, 'r')\n",
    "plt.plot(x, y_mean, 'g')\n",
    "plt.plot(data['x'], data['Y model'], 'b')\n",
    "plt.title('Valor actual vs predicción')\n",
    "plt.grid()"
   ]
  },
  {
   "cell_type": "markdown",
   "metadata": {},
   "source": [
    "# Error estándar de los residuos (RSE)"
   ]
  },
  {
   "cell_type": "code",
   "execution_count": 108,
   "metadata": {},
   "outputs": [
    {
     "data": {
      "text/plain": [
       "0.7641263282045386"
      ]
     },
     "execution_count": 108,
     "metadata": {},
     "output_type": "execute_result"
    }
   ],
   "source": [
    "RSE = np.sqrt(SSD / (len(data) - 2))\n",
    "RSE  # Entre menor sea, mejor"
   ]
  },
  {
   "cell_type": "code",
   "execution_count": 109,
   "metadata": {},
   "outputs": [
    {
     "data": {
      "text/plain": [
       "7.189532049411784"
      ]
     },
     "execution_count": 109,
     "metadata": {},
     "output_type": "execute_result"
    }
   ],
   "source": [
    "np.mean(data['y_actual'])"
   ]
  },
  {
   "cell_type": "code",
   "execution_count": 110,
   "metadata": {},
   "outputs": [
    {
     "data": {
      "text/plain": [
       "10.628317990001257"
      ]
     },
     "execution_count": 110,
     "metadata": {},
     "output_type": "execute_result"
    }
   ],
   "source": [
    "# Error\n",
    "RSE / np.mean(data['y_actual']) * 100"
   ]
  }
 ],
 "metadata": {
  "kernelspec": {
   "display_name": "Python 3",
   "language": "python",
   "name": "python3"
  },
  "language_info": {
   "codemirror_mode": {
    "name": "ipython",
    "version": 3
   },
   "file_extension": ".py",
   "mimetype": "text/x-python",
   "name": "python",
   "nbconvert_exporter": "python",
   "pygments_lexer": "ipython3",
   "version": "3.8.1"
  }
 },
 "nbformat": 4,
 "nbformat_minor": 4
}
